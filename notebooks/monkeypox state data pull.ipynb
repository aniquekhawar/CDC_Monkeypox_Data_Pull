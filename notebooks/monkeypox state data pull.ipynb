{
 "cells": [
  {
   "cell_type": "code",
   "execution_count": 11,
   "metadata": {},
   "outputs": [],
   "source": [
    "import pandas as pd\n",
    "from itertools import product"
   ]
  },
  {
   "cell_type": "code",
   "execution_count": 24,
   "metadata": {},
   "outputs": [],
   "source": [
    "def update_timeseries(historical_timeseries, latest_timeseries):\n",
    "    concat_df = pd.concat([historical_timeseries, latest_timeseries])\n",
    "    latest_max_date = latest_timeseries['AsOf'].max()\n",
    "    concat_df['AsOf'] = pd.to_datetime(concat_df['AsOf'])\n",
    "    cases_to_date = latest_timeseries['Cases'].sum()\n",
    "\n",
    "    # create data to impute (i.e., when states don't report on a specific day)\n",
    "    unique_locations = concat_df['Location'].unique().tolist()\n",
    "    imputed_date_range = pd.date_range('2022-8-4', latest_max_date)\n",
    "    state_date_pairings = [unique_locations, imputed_date_range]\n",
    "    state_date_pairings = [i for i in product(*state_date_pairings)]\n",
    "    data_to_append = pd.DataFrame(state_date_pairings, columns = ['Location', 'AsOf'])\n",
    "\n",
    "    concat_df2 = pd.concat([concat_df, data_to_append])\n",
    "    concat_df2.drop_duplicates(subset = ['Location', 'AsOf'], keep = 'first', inplace = True)\n",
    "    concat_df2.sort_values(by = ['Location', 'AsOf'], inplace = True)\n",
    "    concat_df2['Cases'] = concat_df2.groupby(['Location'])['Cases'].ffill()\n",
    "    print('Missing Cumulative Case Counts:', concat_df['Cases'].isna().sum())\n",
    "    concat_df2['Cases'] = concat_df2.groupby(['Location'])['Cases'].bfill()\n",
    "    \n",
    "    # clean up variable names\n",
    "    concat_df2.rename(columns = {'Location': 'State', 'Cases': 'Cumulative Cases'}, inplace = True)\n",
    "    concat_df2['Daily New Cases'] = concat_df2.groupby('State')['Cumulative Cases'].diff(1)\n",
    "    concat_df2['Daily New Cases'].fillna(0, inplace = True)\n",
    "    concat_df2['Total US Cases to Date(excluding Non-Residents)'] = cases_to_date\n",
    "    return concat_df2"
   ]
  },
  {
   "cell_type": "code",
   "execution_count": 25,
   "metadata": {},
   "outputs": [],
   "source": [
    "# Load in historical state timeseries\n",
    "state_ts = pd.read_csv('data/monkeypox_state_timeseries_latest.csv', usecols = ['State', 'Cumulative Cases', 'AsOf'], parse_dates = ['AsOf'])\n",
    "historical_latest_date = state_ts['AsOf'].max()\n",
    "state_ts.rename(columns = {'State': 'Location', 'Cumulative Cases': 'Cases'}, inplace = True)"
   ]
  },
  {
   "cell_type": "code",
   "execution_count": 26,
   "metadata": {},
   "outputs": [
    {
     "name": "stdout",
     "output_type": "stream",
     "text": [
      "Missing Cumulative Case Counts: 0\n"
     ]
    }
   ],
   "source": [
    "# grab today\n",
    "today_timestamp = pd.Timestamp.now(tz='US/Eastern')\n",
    "today_str = today_timestamp.strftime('%Y-%m-%d')\n",
    "last_updated_time = today_timestamp.strftime('%Y-%m-%d %H:%M')\n",
    "\n",
    "url = 'https://www.cdc.gov/wcms/vizdata/poxvirus/monkeypox/data/USmap_counts.csv'\n",
    "new_state_data = pd.read_csv(url, usecols = ['Location', 'Cases', 'AsOf'])\n",
    "new_state_data = new_state_data[['Location', 'AsOf', 'Cases']].copy()\n",
    "new_state_data = new_state_data[~new_state_data['Location'].isin(['Total', 'Non-US Resident'])] # filter out total and Non-US Resident\n",
    "\n",
    "# extract the latest date from the CSV\n",
    "new_state_data['AsOf'] = new_state_data['AsOf'].str.replace('Data as of ', '', regex = True)\n",
    "new_state_data['AsOf'] = (pd.to_datetime(new_state_data['AsOf'])).dt.strftime('%Y-%m-%d')\n",
    "\n",
    "state_latest_data_date = pd.to_datetime(new_state_data['AsOf'].max())\n",
    "\n",
    "if state_latest_data_date > historical_latest_date:\n",
    "    concat_df = update_timeseries(state_ts, new_state_data)\n",
    "    concat_df.to_csv('data/monkeypox_state_timeseries_latest.csv', index = False)\n",
    "else:\n",
    "    print('No data to update.')"
   ]
  }
 ],
 "metadata": {
  "interpreter": {
   "hash": "aee8b7b246df8f9039afb4144a1f6fd8d2ca17a180786b69acc140d282b71a49"
  },
  "kernelspec": {
   "display_name": "Python 3.9.4 64-bit",
   "language": "python",
   "name": "python3"
  },
  "language_info": {
   "codemirror_mode": {
    "name": "ipython",
    "version": 3
   },
   "file_extension": ".py",
   "mimetype": "text/x-python",
   "name": "python",
   "nbconvert_exporter": "python",
   "pygments_lexer": "ipython3",
   "version": "3.9.4"
  },
  "orig_nbformat": 4
 },
 "nbformat": 4,
 "nbformat_minor": 2
}
